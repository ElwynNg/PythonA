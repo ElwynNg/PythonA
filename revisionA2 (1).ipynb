{
 "cells": [
  {
   "cell_type": "markdown",
   "id": "d8b9dd77",
   "metadata": {},
   "source": [
    "python lists:\n",
    "can contains multiple values: strings, integer, float, each value are seperated by comma:\n",
    "they can construct the strings and add:\n",
    "\n",
    "dayTemp1 = 22\n",
    "\n",
    "dayTemp2 = 18\n",
    "\n",
    "dayTemp3 = 20\n",
    "\n",
    "dayTemp4 = 21\n",
    "\n",
    "dayTemp5 = 23\n",
    "\n",
    "dayTemp6 = 15\n",
    "\n",
    "dayTemp7 = 17\n",
    "\n",
    "averageTempWeek = (dayTemp1 + dayTemp2 + dayTemp3 + dayTemp4 + dayTemp5 + dayTemp6 + dayTemp7)/7 \n",
    "\n",
    "print(\"Average Temperature per week \", round(averageTempWeek,2)) #the average is round a two decimals\n"
   ]
  },
  {
   "cell_type": "markdown",
   "id": "8bd5ba88",
   "metadata": {},
   "source": [
    "comment functions used in lists :\n",
    "type(), len(),sort(), pprint(),index(),append(),find(), list()\n"
   ]
  },
  {
   "cell_type": "markdown",
   "id": "52046f11",
   "metadata": {},
   "source": [
    "1) list can be multiply as well with the symbol of * \n",
    "\n",
    "2) check whether value is in specific list: value in [list] -- returns boolean value \n",
    "\n",
    "if it True / then \n",
    "if it false  / then \n",
    "\n",
    "\n",
    "3) check whether value is not in specific list: value not in [list] -- returns boolean value \n",
    "\n",
    "4) append (): can append either integer and strings and lists or assigned elements\n",
    "\n",
    "5) extend(): extend one list at the end of another list, a.extend(b) but c = a + b can store in c but not modify a list\n",
    "\n",
    "6) remove() and pop(): remove is remove specific value, strings , iterate value etc. pop() remove value index number on the list, `del` function delete the whole list into memory \n",
    "\n",
    "7) clear() remove all the values but it's still remain the varaible type == list \n",
    "\n",
    "8) when list1 = list2, list1 changes so as list2, so it's safer to use list1 = list2.copy() command \n",
    "\n",
    "9) change everything into lists : list()\n",
    "\n",
    "10) sort() command sort all same type of values in a list, workable on alphabatical and numnerical, default by ascendng order. if wants to descending, set another parameter `reserver = True`.  list1.sort(reverse = True),sort() also applicable in sorting case string values, ascending from lower cases , using by `list.sort(key = str.lower)`\n",
    "\n",
    "11) mix value list and count every value occurrences: use list.count(), output are integers \n",
    "\n",
    "12) list also can descending order of values, like lst.reverse()\n",
    "\n",
    "13) help(list.[command]) can pop up help files for any list commands \n",
    "\n",
    "14) sum up:\n",
    "clear()\n",
    "\n",
    "copy()\n",
    "\n",
    "count()\n",
    "\n",
    "extend()\n",
    "\n",
    "append()\n",
    "\n",
    "sort()\n",
    "\n",
    "pop()\n",
    "\n",
    "reverse()\n",
    "\n",
    "\n",
    "\n"
   ]
  },
  {
   "cell_type": "markdown",
   "id": "1de3f944",
   "metadata": {},
   "source": [
    " # index list\n",
    " list index begins with number and follow by square [ ]\n",
    " \n",
    " example:\n",
    " \n",
    "1) list [start:end:step]\n",
    " \n",
    "2) list[0] ---- first value \n",
    "\n",
    "3) list[-1] --- last value \n",
    "\n",
    "**my_list = [\"John\", [4, 8, 12, 16]]**\n",
    "\n",
    "example:\n",
    "\n",
    "my_list [0][1]   - \" john\" first value[0] in second \"o\" index[2]\n",
    "\n"
   ]
  },
  {
   "cell_type": "markdown",
   "id": "b4fe9edb",
   "metadata": {},
   "source": [
    "## sublist \n"
   ]
  },
  {
   "cell_type": "code",
   "execution_count": 1,
   "id": "0c790000",
   "metadata": {},
   "outputs": [
    {
     "name": "stdout",
     "output_type": "stream",
     "text": [
      "o\n",
      "16\n"
     ]
    }
   ],
   "source": [
    "my_list = [\"John\", [4, 8, 12, 16]]\n",
    "print(my_list[0][1])    \n",
    "print(my_list[1][3])"
   ]
  },
  {
   "cell_type": "markdown",
   "id": "51658af6",
   "metadata": {},
   "source": [
    "### For loops \n",
    "For loops are used when we want to sequentially iterate over sequences (e.g., lists, strings, dictionaries, tuples, sets). When the sequence has been iterated completely, the for loop ends."
   ]
  },
  {
   "cell_type": "markdown",
   "id": "43a2ae8c",
   "metadata": {},
   "source": [
    "### nested python loops\n",
    "lst1 = [\"small\", \"medium\", \"large\"]\n",
    "lst2 = [\"vehicle\", \"toy\", \"house\"]\n",
    "\n",
    "for x in lst1:\n",
    "\n",
    "    for y in lst2:\n",
    "    \n",
    "        print(x, y)\n",
    "        \n",
    "        \n",
    "lst2 execute 3x3 times coz lst1 has 3 values, when 9 times completed, the loop would stop\n",
    "\n",
    "\n",
    "loop inside while loops:\n",
    "names = ['vehicle', 'toy', 'house']\n",
    "\n",
    "# outer for loop\n",
    "for name in names:\n",
    "\n",
    "names = ['vehicle', 'toy', 'house']\n",
    "\n",
    "    # inner while loop\n",
    "    \n",
    "    count = 0\n",
    "    \n",
    "    while count < 5:\n",
    "    \n",
    "        print(name, end=' ')\n",
    "        \n",
    "        \n",
    "        count += 1\n",
    "        \n",
    "        \n",
    "    print()\n",
    "\n",
    "explaination: \n",
    "\n",
    "each first to last value one by one and  runs 5-0 + 1 times \n",
    "\n",
    "\n",
    "\n",
    "\n",
    "`output would be:`\n",
    "\n",
    "vehicle vehicle vehicle vehicle vehicle\n",
    "\n",
    "toy toy toy toy toy \n",
    "\n",
    "house house house house house \n",
    "\n",
    "\n",
    "\n",
    "## while loop with for loop\n",
    "\n",
    "names = ['vehicle', 'toy', 'house']\n",
    "count = 0\n",
    "\n",
    "# outer while loop\n",
    "while count < 5:\n",
    "    # inner for loop\n",
    "    for name in names:\n",
    "        print(name, end=' ')\n",
    "    count += 1\n",
    "    print()\n",
    "    \n",
    "    \n",
    "Explanation: run the whole list for 6 times and remove the `' ' `\n"
   ]
  },
  {
   "cell_type": "markdown",
   "id": "dc4de651",
   "metadata": {},
   "source": [
    "# range( )\n",
    "\n",
    "range () apply with:\n",
    "\n",
    "range(start,end,step)\n",
    "\n",
    "by default: \n",
    "\n",
    "range(parameter)\n",
    "\n",
    "**parameter must be integers**\n",
    "sequence1 = range(20) # generate 20 values starting by the number 0\n",
    "\n",
    "\n",
    "sequence2 = range(15,20)# generates 15, 16, 17, 18, and 19 \n",
    "\n",
    "\n",
    "\n",
    "sequence3 = range(0, 22, 3)#generates 0, 3, 6, 9, ...,21\n",
    "\n",
    "\n",
    "\n",
    "sequence4 = range(-20, -201, -10)#generates -20, -30, -40, ...,-200  \n",
    "\n",
    "\n",
    "\n",
    "\n",
    "sequence5 = range(200, -201, -10)# generates 200, 190, 180, ..., -200\n",
    "\n",
    "\n"
   ]
  },
  {
   "cell_type": "markdown",
   "id": "b8ec8aa5",
   "metadata": {},
   "source": [
    "## exe\n",
    "Suppose we have a nested list where each inner list contains strings that represent symptoms exhibited by the corresponding patient. We want to write a function that takes this list as a parameter and returns a new list containing integers. For each patient, the new list should contain the number of symptoms they were exhibiting.\n",
    "\n",
    "Here is an example:\n",
    "\n",
    "\n",
    "symptom_count(['fatique', 'abdominal swelling', 'bruising'], ['loss of appetite', 'fatique'])\n",
    "\n"
   ]
  },
  {
   "cell_type": "code",
   "execution_count": 3,
   "id": "8ffcf6d9",
   "metadata": {},
   "outputs": [
    {
     "name": "stdout",
     "output_type": "stream",
     "text": [
      "[3, 2]\n"
     ]
    }
   ],
   "source": [
    "\n",
    "symptom = [['fatique', 'abdominal swelling', 'bruising'], ['loss of appetite', 'fatique']]\n",
    "len_list = []\n",
    "for sublist in symptom:\n",
    "    len_list.append(len(sublist))\n",
    "print(len_list)"
   ]
  },
  {
   "cell_type": "markdown",
   "id": "e8bd483a",
   "metadata": {},
   "source": [
    "## iterate sublist two values in a list"
   ]
  },
  {
   "cell_type": "code",
   "execution_count": 5,
   "id": "50dbb47b",
   "metadata": {},
   "outputs": [
    {
     "name": "stdout",
     "output_type": "stream",
     "text": [
      "The hallway is 11.25 sqm \n",
      "The kitchen is 18.0 sqm \n",
      "The living room is 20.0 sqm \n",
      "The bedroom is 10.75 sqm \n",
      "The bathroom is 9.5 sqm \n"
     ]
    }
   ],
   "source": [
    "# house list of lists\n",
    "house = [[\"hallway\", 11.25], [\"kitchen\", 18.0], [\"living room\", 20.0], \n",
    "         [\"bedroom\", 10.75], [\"bathroom\", 9.50]]\n",
    "         \n",
    "for key, y in house :\n",
    "    print('The ' + key + ' is ' + str(y) + ' sqm ')"
   ]
  },
  {
   "cell_type": "markdown",
   "id": "1fe49461",
   "metadata": {},
   "source": [
    "## same apply in list, use slice to add items \n"
   ]
  },
  {
   "cell_type": "code",
   "execution_count": 6,
   "id": "c90fbf2b",
   "metadata": {},
   "outputs": [
    {
     "name": "stdout",
     "output_type": "stream",
     "text": [
      "['cc', 'dd', ['eee', 'fff']]\n",
      "['eee', 'fff']\n",
      "eee\n"
     ]
    }
   ],
   "source": [
    "L = ['a', 'b', ['cc', 'dd', ['eee', 'fff']], 'g', 'h']\n",
    "\n",
    "print(L[-3])\n",
    "# Prints ['cc', 'dd', ['eee', 'fff']]\n",
    "\n",
    "print(L[-3][-1])\n",
    "# Prints ['eee', 'fff']\n",
    "\n",
    "print(L[-3][-1][-2])\n",
    "# Prints eee\n",
    "\n",
    "## we know that [n] is first taking out space, and add one or more values on the sublists"
   ]
  },
  {
   "cell_type": "markdown",
   "id": "69c1fff9",
   "metadata": {},
   "source": [
    "## index change"
   ]
  },
  {
   "cell_type": "code",
   "execution_count": 7,
   "id": "f99e6e61",
   "metadata": {},
   "outputs": [
    {
     "name": "stdout",
     "output_type": "stream",
     "text": [
      "['a', ['bb', 0], 'd']\n"
     ]
    }
   ],
   "source": [
    "L = ['a', ['bb', 'cc'], 'd']\n",
    "L[1][1] = 0\n",
    "print(L)\n",
    "# Prints ['a', ['bb', 0], 'd']"
   ]
  },
  {
   "cell_type": "markdown",
   "id": "70275215",
   "metadata": {},
   "source": [
    "## insert or append\n",
    "\n"
   ]
  },
  {
   "cell_type": "code",
   "execution_count": 9,
   "id": "b19b38af",
   "metadata": {},
   "outputs": [
    {
     "name": "stdout",
     "output_type": "stream",
     "text": [
      "['a', ['bb', 'cc', 'xx'], 'd']\n"
     ]
    }
   ],
   "source": [
    "L = ['a', ['bb', 'cc'], 'd']\n",
    "L[1].append('xx')\n",
    "print(L)\n",
    "# Prints ['a', ['bb', 'cc', 'xx'], 'd']"
   ]
  },
  {
   "cell_type": "code",
   "execution_count": 10,
   "id": "d1a0048c",
   "metadata": {},
   "outputs": [
    {
     "name": "stdout",
     "output_type": "stream",
     "text": [
      "['a', ['xx', 'bb', 'cc'], 'd']\n"
     ]
    }
   ],
   "source": [
    "L = ['a', ['bb', 'cc'], 'd']\n",
    "L[1].insert(0,'xx')\n",
    "print(L)\n",
    "# Prints ['a', ['xx', 'bb', 'cc'], 'd']"
   ]
  },
  {
   "cell_type": "markdown",
   "id": "065bf56b",
   "metadata": {},
   "source": [
    "## Remove items from a Nested List"
   ]
  },
  {
   "cell_type": "code",
   "execution_count": 11,
   "id": "57664f08",
   "metadata": {},
   "outputs": [
    {
     "name": "stdout",
     "output_type": "stream",
     "text": [
      "['a', ['bb', 'dd'], 'e']\n",
      "cc\n"
     ]
    }
   ],
   "source": [
    "L = ['a', ['bb', 'cc', 'dd'], 'e']\n",
    "x = L[1].pop(1)\n",
    "print(L)\n",
    "# Prints ['a', ['bb', 'dd'], 'e']\n",
    "\n",
    "# removed item\n",
    "print(x)\n",
    "# Prints cc\n"
   ]
  },
  {
   "cell_type": "markdown",
   "id": "6a1381ec",
   "metadata": {},
   "source": [
    "## del item "
   ]
  },
  {
   "cell_type": "code",
   "execution_count": null,
   "id": "c96ffd48",
   "metadata": {},
   "outputs": [],
   "source": [
    "L = ['a', ['bb', 'cc', 'dd'], 'e']\n",
    "del L[1][1]\n",
    "print(L)\n",
    "# Prints ['a', ['bb', 'dd'], 'e']\n"
   ]
  },
  {
   "cell_type": "markdown",
   "id": "44a1dbbb",
   "metadata": {},
   "source": [
    "## use remove() delete specify value "
   ]
  },
  {
   "cell_type": "code",
   "execution_count": 13,
   "id": "571d8e2e",
   "metadata": {},
   "outputs": [
    {
     "name": "stdout",
     "output_type": "stream",
     "text": [
      "['a', ['bb', 'dd'], 'e']\n"
     ]
    }
   ],
   "source": [
    "# If you’re not sure where the item is in the list, use remove() method to delete it by value.\n",
    "\n",
    "L = ['a', ['bb', 'cc', 'dd'], 'e']\n",
    "L[1].remove('cc')\n",
    "print(L)\n",
    "# Prints ['a', ['bb', 'dd'], 'e']"
   ]
  },
  {
   "cell_type": "code",
   "execution_count": 19,
   "id": "33a1dcdf",
   "metadata": {},
   "outputs": [
    {
     "data": {
      "text/plain": [
       "[6]"
      ]
     },
     "execution_count": 19,
     "metadata": {},
     "output_type": "execute_result"
    }
   ],
   "source": [
    "a=[1,2,3,4,5,6]\n",
    "a[-3:]\n",
    "a[-6:]\n",
    "a[-1:]\n",
    "# a [start{smaller number}:end{larger number}]\n",
    "\n"
   ]
  },
  {
   "cell_type": "code",
   "execution_count": 20,
   "id": "a04394ed",
   "metadata": {},
   "outputs": [
    {
     "data": {
      "text/plain": [
       "'d'"
      ]
     },
     "execution_count": 20,
     "metadata": {},
     "output_type": "execute_result"
    }
   ],
   "source": [
    "#有时候列表的元素也可能是一个列表，这样就构成了嵌套列表，假如，a=[[1,2,3,4],1,2,3,4] ，a列表的第3个元素是一个子列表\n",
    "\n",
    "#我们可以通过list[x][y]来获取子列表中的元素：\n",
    "\n",
    "a=[1,2,['a','b','c','d'],3,4]\n",
    "a[2][2]\n",
    "a[2][-1]\n"
   ]
  },
  {
   "cell_type": "markdown",
   "id": "3f46740e",
   "metadata": {},
   "source": [
    "####  我们有时可能想要对列表的每个元素进行处理，例如，我们想对列表的每个元素都加1：\n",
    "\n",
    "a=[1,2,3,4,5]\n",
    "\n",
    "\n",
    "1) [x+1 for x in a]\n",
    "\n",
    "\n",
    "2) output [2, 3, 4, 5, 6]"
   ]
  },
  {
   "cell_type": "code",
   "execution_count": 22,
   "id": "18bccb83",
   "metadata": {},
   "outputs": [],
   "source": [
    "## 如果我们的列表包含了嵌套列表，我们也可以使用这个语句，例如：a=[[1,2,3],[4,5,6],[7,8,9]] ，我们想使子列表中的每个元素都加1：\n",
    "\n",
    "#a=[[1,2,3],[4,5,6],[7,8,9]]\n",
    "#[[sublist[i]+1 for i in range(3) ] for sublist in a]\n",
    "## [[2, 3, 4], [5, 6, 7], [8, 9, 10]]"
   ]
  },
  {
   "cell_type": "code",
   "execution_count": 30,
   "id": "b8e28c0d",
   "metadata": {},
   "outputs": [
    {
     "name": "stdout",
     "output_type": "stream",
     "text": [
      "[[2, 3, 4], [5, 6, 7], [8, 9, 10]]\n"
     ]
    }
   ],
   "source": [
    "a = [[1,2,3],[4,5,6],[7,8,9]]\n",
    "\n",
    "result = []\n",
    "for sublist in a:\n",
    "    inner_result = []\n",
    "    for i in range(3):\n",
    "        inner_result.append(sublist[i]+1)\n",
    "    result.append(inner_result)\n",
    "print(result)\n",
    "\n"
   ]
  },
  {
   "cell_type": "code",
   "execution_count": 37,
   "id": "1ea80da5",
   "metadata": {},
   "outputs": [
    {
     "name": "stdout",
     "output_type": "stream",
     "text": [
      "[[2, 3, 4], [5, 6, 7], [8, 9, 10]]\n"
     ]
    }
   ],
   "source": [
    "## 我想将 a=[[1,2,3],[4,5,6],[7,8,9]]  变成[[1,4,7],[2,5,8],[3,6,9]],我们可以这样做：\n",
    "\n",
    "output= [[sublist[i]+1 for i in range(3)] for sublist in a]\n",
    "print(output)\n",
    "\n"
   ]
  },
  {
   "cell_type": "code",
   "execution_count": 41,
   "id": "fdc848cb",
   "metadata": {},
   "outputs": [
    {
     "name": "stdout",
     "output_type": "stream",
     "text": [
      "[[1, 4, 7], [2, 5, 8], [3, 6, 9]]\n"
     ]
    }
   ],
   "source": [
    "output1 = [[sublist[i]for sublist in a] for i in range(3)]\n",
    "print(output1)"
   ]
  },
  {
   "cell_type": "code",
   "execution_count": 42,
   "id": "3bad595d",
   "metadata": {},
   "outputs": [
    {
     "name": "stdout",
     "output_type": "stream",
     "text": [
      "['h', 'u', 'm', 'a', 'n']\n"
     ]
    }
   ],
   "source": [
    "h_letters = []\n",
    "\n",
    "for letter in 'human':\n",
    "    h_letters.append(letter)\n",
    "\n",
    "print(h_letters)\n",
    "\n",
    "\n"
   ]
  },
  {
   "cell_type": "code",
   "execution_count": 51,
   "id": "4ea9cf91",
   "metadata": {},
   "outputs": [
    {
     "name": "stdout",
     "output_type": "stream",
     "text": [
      "['h', 'u', 'm', 'a', 'n']\n"
     ]
    }
   ],
   "source": [
    "h_letters = [letter for letter in 'human']\n",
    "print(h_letters)"
   ]
  },
  {
   "cell_type": "code",
   "execution_count": 52,
   "id": "dc15e01d",
   "metadata": {},
   "outputs": [
    {
     "name": "stdout",
     "output_type": "stream",
     "text": [
      "[[1, 4], [2, 5], [3, 6], [4, 8]]\n"
     ]
    }
   ],
   "source": [
    "transposed = []\n",
    "matrix = [[1, 2, 3, 4], [4, 5, 6, 8]]\n",
    "\n",
    "for i in range(len(matrix[0])):\n",
    "    transposed_row = []\n",
    "\n",
    "    for row in matrix:\n",
    "        transposed_row.append(row[i])\n",
    "    transposed.append(transposed_row)\n",
    "\n",
    "print(transposed)"
   ]
  },
  {
   "cell_type": "code",
   "execution_count": 55,
   "id": "1c5cbea8",
   "metadata": {},
   "outputs": [
    {
     "name": "stdout",
     "output_type": "stream",
     "text": [
      "[[1, 4], [2, 5], [3, 6], [4, 8]]\n"
     ]
    }
   ],
   "source": [
    "transposed = [[row[i] for row in matrix] for i in range(len(matrix[0]))]\n",
    "print(transposed)"
   ]
  },
  {
   "cell_type": "code",
   "execution_count": 56,
   "id": "a0aad5f3",
   "metadata": {},
   "outputs": [],
   "source": [
    "#将列表中所有大于2的元素+1，如把[[1,2,3],[4,5,6]]变成[[4], [5, 6, 7]]"
   ]
  },
  {
   "cell_type": "code",
   "execution_count": 65,
   "id": "c5d3301d",
   "metadata": {},
   "outputs": [
    {
     "name": "stdout",
     "output_type": "stream",
     "text": [
      "[[4], [5, 6, 7], [8, 9, 10]]\n"
     ]
    }
   ],
   "source": [
    "a = [[1,2,3],[4,5,6],[7,8,9]]\n",
    "lst3 = [[sublist[i] + 1  for i in range(3) if sublist[i] > 2 ] for sublist in a ]\n",
    "print(lst3)"
   ]
  },
  {
   "cell_type": "code",
   "execution_count": 66,
   "id": "d64c8e4a",
   "metadata": {},
   "outputs": [],
   "source": [
    "listThings = ['banana', 'apple', 'apple', 3, 10, 78, 5.5, 'apple', list(range(200,205)), 'apple', 'apple', 10.5]\n",
    "appleList = [ ]"
   ]
  },
  {
   "cell_type": "markdown",
   "id": "e53e6ba4",
   "metadata": {},
   "source": [
    "Output\n",
    "listThings = ['banana', 'apple', 3, 10, 78, 5.5, list(range(200,205)), 10.5]\n",
    "appleList = ['apple', 'apple', 'apple', 'apple', 'apple']\n"
   ]
  },
  {
   "cell_type": "code",
   "execution_count": 69,
   "id": "cb3874c9",
   "metadata": {},
   "outputs": [
    {
     "name": "stdout",
     "output_type": "stream",
     "text": [
      "['apple', 'apple', 'apple', 'apple', 'apple']\n"
     ]
    }
   ],
   "source": [
    "appleList  = [i for i in listThings if i == 'apple']\n",
    "print(appleList)"
   ]
  },
  {
   "cell_type": "markdown",
   "id": "00e0aed9",
   "metadata": {},
   "source": [
    "## Dictionary \n"
   ]
  },
  {
   "cell_type": "markdown",
   "id": "4d7eb97b",
   "metadata": {},
   "source": [
    "To create a dictionary, you use curly brackets with key:value pairs separated by commas:\n",
    "\n",
    "age = {\"John\":52, \"Siobhan\":21, \"Ye\":18}\n",
    "\n",
    "You can also create dictionaries using a special construction method:\n",
    "\n",
    "age = dict(John=52, Siobhan=21, Ye=18)"
   ]
  },
  {
   "cell_type": "code",
   "execution_count": 70,
   "id": "08bf01f5",
   "metadata": {},
   "outputs": [],
   "source": [
    "## so age = {} is equal to age = dic () \n"
   ]
  },
  {
   "cell_type": "markdown",
   "id": "48e8e343",
   "metadata": {},
   "source": [
    "# dictionary can be measure type() and len() as well\n",
    "len(dic)\n",
    "type(dic)\n",
    "\n"
   ]
  },
  {
   "cell_type": "code",
   "execution_count": 72,
   "id": "7e4b76a5",
   "metadata": {},
   "outputs": [
    {
     "name": "stdout",
     "output_type": "stream",
     "text": [
      "{'fname': 'John', 'height': '190cm', 'weight': '52kg', 'age': 30, 'lname': 'Smith', 'interests': ['programming', 'reading', 'cooking', 'gardening']}\n",
      "6\n"
     ]
    }
   ],
   "source": [
    "# add elements: keys and values into a dictionary \n",
    "details = {\"fname\":\"John\", \"height\":\"190cm\", \"weight\":\"52kg\", \"age\":30}\n",
    "#add new dictionary elements\n",
    "details[\"lname\"] = \"Smith\"\n",
    "details[\"interests\"] = [\"programming\", \"reading\", \"cooking\", \"gardening\"]\n",
    "print(details)\n",
    "print(len(details))"
   ]
  },
  {
   "cell_type": "code",
   "execution_count": 73,
   "id": "7db422fd",
   "metadata": {},
   "outputs": [
    {
     "name": "stdout",
     "output_type": "stream",
     "text": [
      "Smith\n",
      "John\n"
     ]
    }
   ],
   "source": [
    "# use key to index value in dicitionary \n",
    "details = {'fname': 'John', 'height': '190cm', 'weight': '52kg', 'age': 30, 'lname': 'Smith', 'interests': ['programming', 'reading', 'cooking', 'gardening']}\n",
    "#access dictionary elements\n",
    "print(details[\"lname\"])\n",
    "print(details[\"fname\"])"
   ]
  },
  {
   "cell_type": "markdown",
   "id": "b091eb21",
   "metadata": {},
   "source": [
    "## clear or del or pop \n"
   ]
  },
  {
   "cell_type": "code",
   "execution_count": 74,
   "id": "ec288362",
   "metadata": {},
   "outputs": [],
   "source": [
    "# dictionary only can exectute clear(), del(), pop()\n",
    "# pop() command can drop specific value \n",
    "# del() drop the whole dictionary \n",
    "# clear() clear the value for both keys and values \n",
    "\n",
    "\n"
   ]
  },
  {
   "cell_type": "markdown",
   "id": "9281e8b9",
   "metadata": {},
   "source": [
    "## more commands on the list \n",
    "\n"
   ]
  },
  {
   "cell_type": "code",
   "execution_count": 94,
   "id": "f2549597",
   "metadata": {},
   "outputs": [
    {
     "name": "stdout",
     "output_type": "stream",
     "text": [
      "[['John', 52], ['Siobhan', 21], ['Ye', 18]]\n",
      "['John', 'Siobhan', 'Ye']\n",
      "[52, 21, 18]\n"
     ]
    }
   ],
   "source": [
    "## create a dictionary \n",
    "#x = dic()\n",
    "## add elements \n",
    "#x[\" {x}\"] = z \n",
    "# copy a dictionary \n",
    "#x1 = x.copy()\n",
    "# check copy if they are different \n",
    "#x == x1\n",
    "# # pop( ) removes and returns the value\n",
    "#ageJohn = age.pop(\"John\")  \n",
    "#print(ageJohn)\n",
    "\n",
    "# del ( ) removes but doesn't return the return value\n",
    "#del age[\"Siobhan\"]  \n",
    "\n",
    "\n",
    "# print all the values \n",
    "age = {\"John\":52, \"Siobhan\":21, \"Ye\":18}\n",
    "lst1 = [[x,y] for x, y in age.items()]\n",
    "print(lst1)\n",
    "\n",
    "# print keys only\n",
    "age = {\"John\":52, \"Siobhan\":21, \"Ye\":18}\n",
    "keys = [key for key in age.keys()]\n",
    "print(keys)\n",
    "\n",
    "# print values only \n",
    "values = [values for values in age.values()]\n",
    "print(values)"
   ]
  },
  {
   "cell_type": "code",
   "execution_count": 96,
   "id": "635ca898",
   "metadata": {},
   "outputs": [
    {
     "name": "stdout",
     "output_type": "stream",
     "text": [
      "{'John': 4, 'Siobhan': 7, 'Ye': 2}\n"
     ]
    }
   ],
   "source": [
    "lst10 = ['John', 'Siobhan', 'Ye']\n",
    "dic10 = {value: len(value) for value in lst10}\n",
    "print(dic10)"
   ]
  },
  {
   "cell_type": "markdown",
   "id": "92519236",
   "metadata": {},
   "source": [
    "# update value in dic\n",
    "age[\"John\"] = age[\"John\"] + 1\n",
    "\n",
    "age[\"Siobhan\"] = age[\"Siobhan\"] + 1\n",
    "\n",
    "age[\"Ye\"] = age[\"Ye\"] + 1\n",
    "\n"
   ]
  },
  {
   "cell_type": "markdown",
   "id": "cb08a35d",
   "metadata": {},
   "source": [
    "## nested dictionary "
   ]
  },
  {
   "cell_type": "code",
   "execution_count": null,
   "id": "c1c50684",
   "metadata": {},
   "outputs": [],
   "source": [
    "## update nested dictionary\n",
    "#dict[outer-key][inner-key]='new-value'\n",
    "\n",
    "\n"
   ]
  },
  {
   "cell_type": "code",
   "execution_count": null,
   "id": "cfcbc27d",
   "metadata": {},
   "outputs": [],
   "source": [
    "dict = { 'stud1_info':{'name':'Safa','Roll-num':25},'stud2_info':{'name':'Ayush','Roll-num':24}}\n",
    "print(\"Dictionary before updation:\",dict)\n",
    "dict['stud2_info']['Roll-num']=78\n",
    "dict['stud1_info']['name']='Riya'\n",
    "print(\"Dictionary after updation:\",dict)"
   ]
  },
  {
   "cell_type": "code",
   "execution_count": 97,
   "id": "6b7beaca",
   "metadata": {},
   "outputs": [
    {
     "name": "stdout",
     "output_type": "stream",
     "text": [
      "{'student1': {'age': 19,\n",
      "              'interests': ['programming', 'reading', 'cooking', 'gardening'],\n",
      "              'name': 'John'},\n",
      " 'student2': {'age': 12, 'interests': ['programming'], 'name': 'Danise'},\n",
      " 'student3': {'age': 9, 'interests': ['watching TV'], 'name': 'Simon'}}\n",
      "3\n"
     ]
    }
   ],
   "source": [
    "# combining dicitionary with same len and labels \n",
    "\n",
    "from pprint import pprint\n",
    "student1 = {'name':'John', 'age':19, 'interests':['programming', 'reading', 'cooking', 'gardening']}\n",
    "student2 = {'name':'Danise', 'age':12, 'interests':['programming']}\n",
    "student3 = {'name':'Simon', 'age':9, 'interests':['watching TV']}\n",
    "students = {'student1': student1, 'student2': student2, 'student3': student3}\n",
    "pprint(students)\n",
    "print(len(students))"
   ]
  },
  {
   "cell_type": "code",
   "execution_count": 99,
   "id": "6d1dc2e2",
   "metadata": {},
   "outputs": [
    {
     "name": "stdout",
     "output_type": "stream",
     "text": [
      "[[0.0, 10], [1, 10], [2, 10], [3, 10], ['four', 10], [5.0, 10], ['six', 10], [7, 10], [8.0, 10], [9, 10]]\n"
     ]
    }
   ],
   "source": [
    "numbers = [0.0, 1, 2, 3, 'four', 5.0, 'six', 7, 8.0, 9]\n",
    "num_index = [[number,len(numbers)] for number in numbers]\n",
    "print(num_index)"
   ]
  },
  {
   "cell_type": "code",
   "execution_count": 117,
   "id": "efdb0254",
   "metadata": {},
   "outputs": [
    {
     "name": "stdout",
     "output_type": "stream",
     "text": [
      "[1, 4, 9]\n",
      "[3, 4]\n"
     ]
    }
   ],
   "source": [
    "lst1 = [1,2,3]\n",
    "lst2 = [1,2,3]\n",
    "list_mul = [lst1[i]*lst2[i] for i in range(len(lst1))]\n",
    "print(list_mul)\n",
    "\n",
    "\n",
    "#lst_send_1 = [sublist[i]+1 for i in sublist for lst in mother_list]\n",
    "#print(lst_send_1)"
   ]
  },
  {
   "cell_type": "code",
   "execution_count": 118,
   "id": "5832e6a9",
   "metadata": {},
   "outputs": [
    {
     "data": {
      "text/plain": [
       "2"
      ]
     },
     "execution_count": 118,
     "metadata": {},
     "output_type": "execute_result"
    }
   ],
   "source": [
    "pets = ['dog','Dog','DOG','fish','cat', 'Dog']\n",
    "pets.count('Dog')"
   ]
  },
  {
   "cell_type": "code",
   "execution_count": 125,
   "id": "519e24c7",
   "metadata": {},
   "outputs": [
    {
     "name": "stdout",
     "output_type": "stream",
     "text": [
      "[22, 20, 19, 12, 10, 9]\n"
     ]
    }
   ],
   "source": [
    "lst1 = [10, 20, 9, 22, 12, 19]\n",
    "lst1.sort(reverse = True)\n",
    "print(lst1)"
   ]
  },
  {
   "cell_type": "markdown",
   "id": "6016bb8b",
   "metadata": {},
   "source": [
    "3. Given a list in Python and a number x, check if the element exists in the given list.\n",
    "\n",
    "Examples:  \n",
    "\n",
    "Input : lst = [15, 6, 7, 10, 12, 20, 10, 28, 10]\n",
    "         x = 10\n",
    "Output : Exist\n",
    "\n",
    "Input : lst = [8, 6, 8, 10, 8, 20, 10, 8, 8]\n",
    "        x = 16\n",
    "Output : Does not Exist"
   ]
  },
  {
   "cell_type": "code",
   "execution_count": 128,
   "id": "0a3f1176",
   "metadata": {},
   "outputs": [
    {
     "data": {
      "text/plain": [
       "'Does not Exist'"
      ]
     },
     "execution_count": 128,
     "metadata": {},
     "output_type": "execute_result"
    }
   ],
   "source": [
    "def check_value(lst, x):\n",
    "    if x in lst:\n",
    "        output = \"Exist\"\n",
    "    else:\n",
    "        output = \"Does not Exist\"\n",
    "    return output\n",
    "    \n",
    "check_value( [15, 6, 7, 10, 12, 20, 10, 28, 10], 16)"
   ]
  },
  {
   "cell_type": "code",
   "execution_count": 129,
   "id": "22acf7fd",
   "metadata": {},
   "outputs": [
    {
     "name": "stdout",
     "output_type": "stream",
     "text": [
      "4\n",
      "8\n",
      "12\n",
      "16\n"
     ]
    }
   ],
   "source": [
    "for i in range(4, 20, 4):\n",
    "    print (i)"
   ]
  },
  {
   "cell_type": "code",
   "execution_count": 131,
   "id": "2b0cb804",
   "metadata": {},
   "outputs": [
    {
     "name": "stdout",
     "output_type": "stream",
     "text": [
      "[4, 8, 12, 16]\n"
     ]
    }
   ],
   "source": [
    "i = [i for i in range(4,20,4)]\n",
    "print(i)"
   ]
  },
  {
   "cell_type": "markdown",
   "id": "b1a59c32",
   "metadata": {},
   "source": []
  },
  {
   "cell_type": "code",
   "execution_count": 146,
   "id": "f9311aa2",
   "metadata": {},
   "outputs": [
    {
     "name": "stdout",
     "output_type": "stream",
     "text": [
      "   \n",
      "*   \n",
      "**   \n",
      "***   \n",
      "****   \n"
     ]
    }
   ],
   "source": [
    "r = \"*\"\n",
    "output12 = \"\"\n",
    "for r in range(5):\n",
    "    output12 = r*\"*\"+ \"   \"\n",
    "    r += 1\n",
    "    print(output12)"
   ]
  },
  {
   "cell_type": "code",
   "execution_count": 150,
   "id": "47e3faae",
   "metadata": {},
   "outputs": [
    {
     "name": "stdout",
     "output_type": "stream",
     "text": [
      "1\n",
      "12\n",
      "123\n",
      "1234\n"
     ]
    }
   ],
   "source": [
    "j = 0\n",
    "output13 = \"\"\n",
    "for j in range(4):\n",
    "    output13 += str(j+1)\n",
    "    j+=1\n",
    "    print(output13)"
   ]
  },
  {
   "cell_type": "code",
   "execution_count": 158,
   "id": "2cd11cf5",
   "metadata": {},
   "outputs": [
    {
     "name": "stdout",
     "output_type": "stream",
     "text": [
      "{'day1': {'1': 'm', '2': 't', '3': 'w'},\n",
      " 'day2': {'1': 'm', '2': 't', '3': 'w'},\n",
      " 'day3': {'1': 'm', '2': 't', '3': 'w'},\n",
      " 'day4': {'1': 'm', '2': 't', '3': 'w'}}\n"
     ]
    }
   ],
   "source": [
    "from pprint import pprint  \n",
    "\n",
    "\n",
    "day1 = {'1': 'm', '2': 't', '3': 'w'}\n",
    "day2 = {'1': 'm', '2': 't', '3': 'w'}\n",
    "day3 = {'1': 'm', '2': 't', '3': 'w'}\n",
    "day4 = {'1': 'm', '2':'t', '3':'w'}\n",
    "days = {'day1': day1, 'day2': day2, 'day3': day3, 'day4': day4}\n",
    "pprint(days)"
   ]
  },
  {
   "cell_type": "code",
   "execution_count": 159,
   "id": "750b11ba",
   "metadata": {},
   "outputs": [
    {
     "name": "stdout",
     "output_type": "stream",
     "text": [
      "{'student1': {'age': 19,\n",
      "              'interests': ['programming', 'reading', 'cooking', 'gardening'],\n",
      "              'name': 'John'},\n",
      " 'student2': {'age': 12, 'interests': ['programming'], 'name': 'Danise'},\n",
      " 'student3': {'age': 9, 'interests': ['watching TV'], 'name': 'Simon'}}\n",
      "3\n"
     ]
    }
   ],
   "source": [
    "from pprint import pprint\n",
    "student1 = {'name':'John', 'age':19, 'interests':['programming', 'reading', 'cooking', 'gardening']}\n",
    "student2 = {'name':'Danise', 'age':12, 'interests':['programming']}\n",
    "student3 = {'name':'Simon', 'age':9, 'interests':['watching TV']}\n",
    "students = {'student1': student1, 'student2': student2, 'student3': student3}\n",
    "pprint(students)\n",
    "print(len(students))"
   ]
  },
  {
   "cell_type": "code",
   "execution_count": 161,
   "id": "26ca71da",
   "metadata": {},
   "outputs": [
    {
     "data": {
      "text/plain": [
       "{'John': 10, 'Denise': 20, 'David': 30, 'Emma': 12, 'Finley': 19}"
      ]
     },
     "execution_count": 161,
     "metadata": {},
     "output_type": "execute_result"
    }
   ],
   "source": [
    "names1 = {'John': 10, 'Denise': 20, 'David': 30}\n",
    "names2 = {'David': 30, 'Emma': 12, 'Finley': 19}\n",
    "names1 | names2\n"
   ]
  },
  {
   "cell_type": "code",
   "execution_count": 228,
   "id": "760f783a",
   "metadata": {},
   "outputs": [
    {
     "name": "stdout",
     "output_type": "stream",
     "text": [
      "{'name': 'Danise', 'age': 30, 'salary': 90000, 'city': 'Adelaide'}\n",
      "{'name': 'Danise', 'age': 30, 'salary': '100000', 'city': 'Adelaide'}\n",
      "{'name': 'Danise', 'age': 30, 'salary': 9000, 'city': 'Adelaide'}\n"
     ]
    }
   ],
   "source": [
    "details = {\n",
    "    \"name\": \"Danise\",\n",
    "    \"age\": 30,\n",
    "    \"salary\": 90000,\n",
    "    \"location\": \"Adelaide\"\n",
    "}\n",
    "details.update({'city': details.pop('location')})\n",
    "print(details)\n",
    "details.update({'salary':'100000'})\n",
    "print(details)\n",
    "details['salary'] = 9000\n",
    "print(details)"
   ]
  },
  {
   "cell_type": "code",
   "execution_count": 186,
   "id": "994abd7d",
   "metadata": {},
   "outputs": [
    {
     "name": "stdout",
     "output_type": "stream",
     "text": [
      "{'name': 'Danise', 'age': 30, 'city': 'Adelaide'}\n"
     ]
    }
   ],
   "source": [
    "# In addition, you can use the update() function with key:value pairs, as shown in the examples below. \n",
    "\n",
    "details.update({\"city\": \"Adelaide\"})\n",
    "print(details)"
   ]
  },
  {
   "cell_type": "code",
   "execution_count": 185,
   "id": "1839876d",
   "metadata": {},
   "outputs": [
    {
     "name": "stdout",
     "output_type": "stream",
     "text": [
      "{'name': 'Danise', 'age': 30}\n"
     ]
    }
   ],
   "source": [
    "details = {\n",
    "    \"name\": \"Danise\",\n",
    "    \"age\": 30,\n",
    "    \"salary\": 90000,\n",
    "    \"location\": \"Adelaide\"\n",
    "}\n",
    "del details[\"salary\"] \n",
    "details.pop(\"location\")\n",
    "print(details)"
   ]
  },
  {
   "cell_type": "code",
   "execution_count": 189,
   "id": "4d9e8084",
   "metadata": {},
   "outputs": [
    {
     "name": "stdout",
     "output_type": "stream",
     "text": [
      "{'emp_1': {'name': 'John', 'salary': 102000}, 'emp_2': {'name': 'Emma', 'salary': 93000}, 'emp_3': {'name': 'Danise', 'salary': 120000}}\n"
     ]
    }
   ],
   "source": [
    "#10. Change the salary of \"John\" to 102000 in the following dictionary.\n",
    "\n",
    "details = {\n",
    "    'emp_1': {'name': 'John', 'salary': 90000},\n",
    "    'emp_2': {'name': 'Emma', 'salary': 93000},\n",
    "    'emp_3': {'name': 'Danise', 'salary': 120000}\n",
    "} \n",
    "\n",
    "details['emp_1']['salary'] = 102000\n",
    "print(details)"
   ]
  },
  {
   "cell_type": "markdown",
   "id": "201af647",
   "metadata": {},
   "source": [
    "Suppose you are given the following two lists: q14_list1 = [1,2,3,4] and q14_list2 = [5,6,7,8,9,10].\n",
    "\n",
    "Write a Python program to transform q14_list1 to the following using the list elements in q14_list2 and exclusively using list methods.\n",
    "\n"
   ]
  },
  {
   "cell_type": "code",
   "execution_count": 193,
   "id": "624ea3af",
   "metadata": {},
   "outputs": [
    {
     "data": {
      "text/plain": [
       "[['charlotte', 'DANISE', 'david'],\n",
       " ['jack', 'john', 'kelly', 'mia'],\n",
       " ['NOAH', 'olivia', 'william']]"
      ]
     },
     "execution_count": 193,
     "metadata": {},
     "output_type": "execute_result"
    }
   ],
   "source": [
    "q15_list = ['john', 'Danise', 'david', 'Kelly', 'william', 'Noah', 'jack', 'charlotte', 'mia', 'olivia']\n",
    "\n",
    "\n",
    "[['charlotte', 'DANISE', 'david'], ['jack', 'john', 'kelly', 'mia'], ['NOAH', 'olivia', 'william']]\n"
   ]
  },
  {
   "cell_type": "code",
   "execution_count": 219,
   "id": "eedc84ab",
   "metadata": {},
   "outputs": [
    {
     "data": {
      "text/plain": [
       "[['charlotte', 'danise', 'david'],\n",
       " ['jack', 'john', 'kelly'],\n",
       " ['mia', 'noah', 'olivia']]"
      ]
     },
     "execution_count": 219,
     "metadata": {},
     "output_type": "execute_result"
    }
   ],
   "source": [
    "out = [i.lower() for i in q15_list]\n",
    "out.sort()\n",
    "a = [out[3*i:3+3*i] for i in range(3)]\n",
    "a \n",
    "\n"
   ]
  },
  {
   "cell_type": "markdown",
   "id": "1ca31e3f",
   "metadata": {},
   "source": [
    "## FUNCTIONS\n"
   ]
  },
  {
   "cell_type": "markdown",
   "id": "23d886cb",
   "metadata": {},
   "source": [
    "**Basic structures**\n",
    "\n",
    "def function_name(param1, param2, ....):\n",
    "\n",
    "    \"\"\"docstring\"\"\"\n",
    "    action 1\n",
    "    action 2"
   ]
  },
  {
   "cell_type": "markdown",
   "id": "859311ba",
   "metadata": {},
   "source": [
    "from **random** import **randint**\n",
    "\n",
    "just like from **{package}** import **{function}**"
   ]
  },
  {
   "cell_type": "markdown",
   "id": "9c4de3c3",
   "metadata": {},
   "source": [
    "***returned_value = function_name(argument1, argument2....)***"
   ]
  },
  {
   "cell_type": "code",
   "execution_count": 229,
   "id": "3e278212",
   "metadata": {},
   "outputs": [],
   "source": [
    "def count_adelaide(customers):\n",
    "    count = 0\n",
    "    for customer in customers:\n",
    "        if customer['postcode'] >= 5000 and customer['postcode'] < 6000:\n",
    "            count = count + 1\n",
    "    return count\n"
   ]
  },
  {
   "cell_type": "markdown",
   "id": "902c5b64",
   "metadata": {},
   "source": [
    "python `global` keyword:"
   ]
  },
  {
   "cell_type": "code",
   "execution_count": 237,
   "id": "50ee2306",
   "metadata": {},
   "outputs": [
    {
     "name": "stdout",
     "output_type": "stream",
     "text": [
      "12\n"
     ]
    }
   ],
   "source": [
    "x = 9 \n",
    "def print_value():\n",
    "    global x\n",
    "    x = 12 \n",
    "    print(x)\n",
    "print_value()"
   ]
  },
  {
   "cell_type": "code",
   "execution_count": null,
   "id": "40418c92",
   "metadata": {},
   "outputs": [],
   "source": []
  }
 ],
 "metadata": {
  "kernelspec": {
   "display_name": "Python 3 (ipykernel)",
   "language": "python",
   "name": "python3"
  },
  "language_info": {
   "codemirror_mode": {
    "name": "ipython",
    "version": 3
   },
   "file_extension": ".py",
   "mimetype": "text/x-python",
   "name": "python",
   "nbconvert_exporter": "python",
   "pygments_lexer": "ipython3",
   "version": "3.9.12"
  }
 },
 "nbformat": 4,
 "nbformat_minor": 5
}
